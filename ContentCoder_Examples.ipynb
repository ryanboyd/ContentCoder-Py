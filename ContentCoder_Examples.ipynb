{
  "nbformat": 4,
  "nbformat_minor": 0,
  "metadata": {
    "colab": {
      "provenance": []
    },
    "kernelspec": {
      "name": "python3",
      "display_name": "Python 3"
    },
    "language_info": {
      "name": "python"
    }
  },
  "cells": [
    {
      "cell_type": "code",
      "execution_count": 1,
      "metadata": {
        "colab": {
          "base_uri": "https://localhost:8080/"
        },
        "id": "dDkC2ZZ03BPf",
        "outputId": "f1d49c6f-de7b-4f3c-e292-a349c35e72d8"
      },
      "outputs": [
        {
          "output_type": "stream",
          "name": "stdout",
          "text": [
            "Collecting contentcoder\n",
            "  Downloading contentcoder-1.0.3-py3-none-any.whl.metadata (7.2 kB)\n",
            "Downloading contentcoder-1.0.3-py3-none-any.whl (22 kB)\n",
            "Installing collected packages: contentcoder\n",
            "Successfully installed contentcoder-1.0.3\n"
          ]
        }
      ],
      "source": [
        "# Install the contentcoder package\n",
        "!pip install contentcoder"
      ]
    },
    {
      "cell_type": "code",
      "source": [
        "# instantiate the ContentCoder() class\n",
        "from contentcoder.ContentCoder import ContentCoder\n",
        "cc = ContentCoder(dicFilename=\"/content/EmpathDefaultDictionary.dic\",\n",
        "                  fileEncoding=\"utf-8-sig\",\n",
        "                  dictFormat=\"2007\")"
      ],
      "metadata": {
        "colab": {
          "base_uri": "https://localhost:8080/"
        },
        "id": "F7YkPYFA3LWN",
        "outputId": "7530c472-d26d-4ab4-ab70-6344c3ff5678"
      },
      "execution_count": 4,
      "outputs": [
        {
          "output_type": "stream",
          "name": "stdout",
          "text": [
            "Dictionary loaded.\n"
          ]
        }
      ]
    },
    {
      "cell_type": "code",
      "source": [
        "# Analyze a sample text\n",
        "text = \"An abrupt sound startled him. Off to the right he heard it, and his ears, expert in such matters, could not be mistaken. Again he heard the sound, and again. Somewhere, off in the blackness, someone had fired a gun three times. \"\n",
        "result = cc.Analyze(text, relativeFreq=True, dropPunct=True, retainCaptures=False, returnTokens=True, wildcardMem=True)\n",
        "print(result)"
      ],
      "metadata": {
        "colab": {
          "base_uri": "https://localhost:8080/"
        },
        "id": "5eZMGrjS4Siu",
        "outputId": "614d7afb-06de-410f-d9ea-a0231e845c7f"
      },
      "execution_count": 12,
      "outputs": [
        {
          "output_type": "stream",
          "name": "stdout",
          "text": [
            "{'Dic': 16.666666666666668, 'WC': 42, 'BigWords': 14.285714285714286, 'Numbers': 0.0, 'AllPunct': 0.23809523809523808, 'Period': 0.09523809523809523, 'Comma': 0.14285714285714285, 'QMark': 0.0, 'Exclam': 0.0, 'Apostro': 0.0, 'Help': 0.0, 'Office': 0.0, 'Dance': 0.0, 'Money': 0.0, 'Wedding': 0.0, 'Domestic_Work': 0.0, 'Sleep': 0.0, 'Medical_Emergency': 0.0, 'Cold': 0.0, 'Hate': 0.0, 'Cheerfulness': 0.0, 'Aggression': 0.0, 'Occupation': 0.0, 'Envy': 0.0, 'Anticipation': 0.0, 'Family': 0.0, 'Vacation': 0.0, 'Crime': 0.0, 'Attractive': 0.0, 'Masculine': 0.0, 'Prison': 0.0, 'Health': 0.0, 'Pride': 0.0, 'Dispute': 0.0, 'Nervousness': 0.0, 'Government': 0.0, 'Weakness': 0.0, 'Horror': 0.0, 'Swearing_Terms': 0.0, 'Leisure': 0.0, 'Suffering': 0.0, 'Royalty': 0.0, 'Wealthy': 0.0, 'Tourism': 0.0, 'Furniture': 0.0, 'School': 0.0, 'Magic': 0.0, 'Beach': 0.0, 'Journalism': 0.0, 'Morning': 0.0, 'Banking': 0.0, 'Social_Media': 0.0, 'Exercise': 0.0, 'Night': 2.380952380952381, 'Kill': 0.0, 'Blue_Collar_Job': 0.0, 'Art': 0.0, 'Ridicule': 0.0, 'Play': 0.0, 'Computer': 0.0, 'College': 0.0, 'Optimism': 0.0, 'Stealing': 0.0, 'Real_Estate': 0.0, 'Home': 0.0, 'Divine': 0.0, 'Sexual': 0.0, 'Fear': 0.0, 'Irritability': 0.0, 'Superhero': 0.0, 'Business': 0.0, 'Driving': 0.0, 'Pet': 2.380952380952381, 'Childish': 0.0, 'Cooking': 0.0, 'Exasperation': 0.0, 'Religion': 0.0, 'Hipster': 0.0, 'Internet': 0.0, 'Surprise': 0.0, 'Reading': 0.0, 'Worship': 0.0, 'Leader': 0.0, 'Independence': 0.0, 'Movement': 0.0, 'Body': 0.0, 'Noise': 4.761904761904762, 'Eating': 0.0, 'Medieval': 0.0, 'Zest': 0.0, 'Confusion': 0.0, 'Water': 0.0, 'Sports': 0.0, 'Death': 0.0, 'Healing': 0.0, 'Legend': 0.0, 'Heroic': 0.0, 'Celebration': 0.0, 'Restaurant': 0.0, 'Violence': 0.0, 'Programming': 0.0, 'Dominant_Heirarchical': 0.0, 'Military': 0.0, 'Neglect': 0.0, 'Swimming': 0.0, 'Exotic': 0.0, 'Love': 0.0, 'Hiking': 0.0, 'Communication': 0.0, 'Hearing': 11.904761904761905, 'Order': 0.0, 'Sympathy': 0.0, 'Hygiene': 0.0, 'Weather': 0.0, 'Anonymity': 0.0, 'Trust': 0.0, 'Ancient': 0.0, 'Deception': 0.0, 'Fabric': 0.0, 'Air_Travel': 0.0, 'Fight': 0.0, 'Dominant_Personality': 0.0, 'Music': 4.761904761904762, 'Vehicle': 0.0, 'Politeness': 0.0, 'Toy': 0.0, 'Farming': 0.0, 'Meeting': 0.0, 'War': 0.0, 'Speaking': 4.761904761904762, 'Listen': 11.904761904761905, 'Urban': 0.0, 'Shopping': 0.0, 'Disgust': 0.0, 'Fire': 0.0, 'Tool': 0.0, 'Phone': 0.0, 'Gain': 0.0, 'Sound': 4.761904761904762, 'Injury': 0.0, 'Sailing': 0.0, 'Rage': 0.0, 'Science': 0.0, 'Work': 0.0, 'Appearance': 0.0, 'Valuable': 0.0, 'Warmth': 0.0, 'Youth': 0.0, 'Sadness': 0.0, 'Fun': 0.0, 'Emotional': 0.0, 'Joy': 0.0, 'Affection': 0.0, 'Traveling': 0.0, 'Fashion': 0.0, 'Ugliness': 0.0, 'Lust': 0.0, 'Shame': 0.0, 'Torment': 0.0, 'Economics': 0.0, 'Anger': 0.0, 'Politics': 0.0, 'Ship': 0.0, 'Clothing': 0.0, 'Car': 0.0, 'Strength': 0.0, 'Technology': 0.0, 'Breaking': 0.0, 'Shape_And_Size': 0.0, 'Power': 0.0, 'White_Collar_Job': 0.0, 'Animal': 0.0, 'Party': 0.0, 'Terrorism': 0.0, 'Smell': 0.0, 'Disappointment': 0.0, 'Poor': 0.0, 'Plant': 0.0, 'Pain': 0.0, 'Beauty': 0.0, 'Timidity': 0.0, 'Philosophy': 0.0, 'Negotiate': 0.0, 'Negative_Emotion': 0.0, 'Cleaning': 0.0, 'Messaging': 0.0, 'Competing': 0.0, 'Law': 0.0, 'Friends': 0.0, 'Payment': 0.0, 'Achievement': 0.0, 'Alcohol': 0.0, 'Liquid': 0.0, 'Feminine': 0.0, 'Weapon': 2.380952380952381, 'Children': 0.0, 'Monster': 0.0, 'Ocean': 0.0, 'Giving': 0.0, 'Contentment': 0.0, 'Writing': 0.0, 'Rural': 0.0, 'Positive_Emotion': 0.0, 'Musical': 0.0, 'tokenizedText': ['an', 'abrupt', 'sound', 'startled', 'him', 'off', 'to', 'the', 'right', 'he', 'heard', 'it', 'and', 'his', 'ears', 'expert', 'in', 'such', 'matters', 'could', 'not', 'be', 'mistaken', 'again', 'he', 'heard', 'the', 'sound', 'and', 'again', 'somewhere', 'off', 'in', 'the', 'blackness', 'someone', 'had', 'fired', 'a', 'gun', 'three', 'times']}\n"
          ]
        }
      ]
    },
    {
      "cell_type": "code",
      "source": [
        "cc.GetResultsHeader()"
      ],
      "metadata": {
        "colab": {
          "base_uri": "https://localhost:8080/"
        },
        "id": "xbKhghMh4vNO",
        "outputId": "95cb449d-103e-4d6c-cdac-8c0d1c6b1b3d"
      },
      "execution_count": 9,
      "outputs": [
        {
          "output_type": "execute_result",
          "data": {
            "text/plain": [
              "['WC',\n",
              " 'Dic',\n",
              " 'BigWords',\n",
              " 'Numbers',\n",
              " 'Help',\n",
              " 'Office',\n",
              " 'Dance',\n",
              " 'Money',\n",
              " 'Wedding',\n",
              " 'Domestic_Work',\n",
              " 'Sleep',\n",
              " 'Medical_Emergency',\n",
              " 'Cold',\n",
              " 'Hate',\n",
              " 'Cheerfulness',\n",
              " 'Aggression',\n",
              " 'Occupation',\n",
              " 'Envy',\n",
              " 'Anticipation',\n",
              " 'Family',\n",
              " 'Vacation',\n",
              " 'Crime',\n",
              " 'Attractive',\n",
              " 'Masculine',\n",
              " 'Prison',\n",
              " 'Health',\n",
              " 'Pride',\n",
              " 'Dispute',\n",
              " 'Nervousness',\n",
              " 'Government',\n",
              " 'Weakness',\n",
              " 'Horror',\n",
              " 'Swearing_Terms',\n",
              " 'Leisure',\n",
              " 'Suffering',\n",
              " 'Royalty',\n",
              " 'Wealthy',\n",
              " 'Tourism',\n",
              " 'Furniture',\n",
              " 'School',\n",
              " 'Magic',\n",
              " 'Beach',\n",
              " 'Journalism',\n",
              " 'Morning',\n",
              " 'Banking',\n",
              " 'Social_Media',\n",
              " 'Exercise',\n",
              " 'Night',\n",
              " 'Kill',\n",
              " 'Blue_Collar_Job',\n",
              " 'Art',\n",
              " 'Ridicule',\n",
              " 'Play',\n",
              " 'Computer',\n",
              " 'College',\n",
              " 'Optimism',\n",
              " 'Stealing',\n",
              " 'Real_Estate',\n",
              " 'Home',\n",
              " 'Divine',\n",
              " 'Sexual',\n",
              " 'Fear',\n",
              " 'Irritability',\n",
              " 'Superhero',\n",
              " 'Business',\n",
              " 'Driving',\n",
              " 'Pet',\n",
              " 'Childish',\n",
              " 'Cooking',\n",
              " 'Exasperation',\n",
              " 'Religion',\n",
              " 'Hipster',\n",
              " 'Internet',\n",
              " 'Surprise',\n",
              " 'Reading',\n",
              " 'Worship',\n",
              " 'Leader',\n",
              " 'Independence',\n",
              " 'Movement',\n",
              " 'Body',\n",
              " 'Noise',\n",
              " 'Eating',\n",
              " 'Medieval',\n",
              " 'Zest',\n",
              " 'Confusion',\n",
              " 'Water',\n",
              " 'Sports',\n",
              " 'Death',\n",
              " 'Healing',\n",
              " 'Legend',\n",
              " 'Heroic',\n",
              " 'Celebration',\n",
              " 'Restaurant',\n",
              " 'Violence',\n",
              " 'Programming',\n",
              " 'Dominant_Heirarchical',\n",
              " 'Military',\n",
              " 'Neglect',\n",
              " 'Swimming',\n",
              " 'Exotic',\n",
              " 'Love',\n",
              " 'Hiking',\n",
              " 'Communication',\n",
              " 'Hearing',\n",
              " 'Order',\n",
              " 'Sympathy',\n",
              " 'Hygiene',\n",
              " 'Weather',\n",
              " 'Anonymity',\n",
              " 'Trust',\n",
              " 'Ancient',\n",
              " 'Deception',\n",
              " 'Fabric',\n",
              " 'Air_Travel',\n",
              " 'Fight',\n",
              " 'Dominant_Personality',\n",
              " 'Music',\n",
              " 'Vehicle',\n",
              " 'Politeness',\n",
              " 'Toy',\n",
              " 'Farming',\n",
              " 'Meeting',\n",
              " 'War',\n",
              " 'Speaking',\n",
              " 'Listen',\n",
              " 'Urban',\n",
              " 'Shopping',\n",
              " 'Disgust',\n",
              " 'Fire',\n",
              " 'Tool',\n",
              " 'Phone',\n",
              " 'Gain',\n",
              " 'Sound',\n",
              " 'Injury',\n",
              " 'Sailing',\n",
              " 'Rage',\n",
              " 'Science',\n",
              " 'Work',\n",
              " 'Appearance',\n",
              " 'Valuable',\n",
              " 'Warmth',\n",
              " 'Youth',\n",
              " 'Sadness',\n",
              " 'Fun',\n",
              " 'Emotional',\n",
              " 'Joy',\n",
              " 'Affection',\n",
              " 'Traveling',\n",
              " 'Fashion',\n",
              " 'Ugliness',\n",
              " 'Lust',\n",
              " 'Shame',\n",
              " 'Torment',\n",
              " 'Economics',\n",
              " 'Anger',\n",
              " 'Politics',\n",
              " 'Ship',\n",
              " 'Clothing',\n",
              " 'Car',\n",
              " 'Strength',\n",
              " 'Technology',\n",
              " 'Breaking',\n",
              " 'Shape_And_Size',\n",
              " 'Power',\n",
              " 'White_Collar_Job',\n",
              " 'Animal',\n",
              " 'Party',\n",
              " 'Terrorism',\n",
              " 'Smell',\n",
              " 'Disappointment',\n",
              " 'Poor',\n",
              " 'Plant',\n",
              " 'Pain',\n",
              " 'Beauty',\n",
              " 'Timidity',\n",
              " 'Philosophy',\n",
              " 'Negotiate',\n",
              " 'Negative_Emotion',\n",
              " 'Cleaning',\n",
              " 'Messaging',\n",
              " 'Competing',\n",
              " 'Law',\n",
              " 'Friends',\n",
              " 'Payment',\n",
              " 'Achievement',\n",
              " 'Alcohol',\n",
              " 'Liquid',\n",
              " 'Feminine',\n",
              " 'Weapon',\n",
              " 'Children',\n",
              " 'Monster',\n",
              " 'Ocean',\n",
              " 'Giving',\n",
              " 'Contentment',\n",
              " 'Writing',\n",
              " 'Rural',\n",
              " 'Positive_Emotion',\n",
              " 'Musical',\n",
              " 'AllPunct',\n",
              " 'Period',\n",
              " 'Comma',\n",
              " 'QMark',\n",
              " 'Exclam',\n",
              " 'Apostro']"
            ]
          },
          "metadata": {},
          "execution_count": 9
        }
      ]
    },
    {
      "cell_type": "code",
      "source": [
        "csv_row = cc.GetResultsArray(result)\n",
        "print(csv_row)"
      ],
      "metadata": {
        "colab": {
          "base_uri": "https://localhost:8080/"
        },
        "id": "WvHzQQuS4942",
        "outputId": "fbfda21b-2296-409d-9341-6fa096c867d0"
      },
      "execution_count": 14,
      "outputs": [
        {
          "output_type": "stream",
          "name": "stdout",
          "text": [
            "[42, 16.6667, 14.2857, 0.0, 0.0, 0.0, 0.0, 0.0, 0.0, 0.0, 0.0, 0.0, 0.0, 0.0, 0.0, 0.0, 0.0, 0.0, 0.0, 0.0, 0.0, 0.0, 0.0, 0.0, 0.0, 0.0, 0.0, 0.0, 0.0, 0.0, 0.0, 0.0, 0.0, 0.0, 0.0, 0.0, 0.0, 0.0, 0.0, 0.0, 0.0, 0.0, 0.0, 0.0, 0.0, 0.0, 0.0, 2.381, 0.0, 0.0, 0.0, 0.0, 0.0, 0.0, 0.0, 0.0, 0.0, 0.0, 0.0, 0.0, 0.0, 0.0, 0.0, 0.0, 0.0, 0.0, 2.381, 0.0, 0.0, 0.0, 0.0, 0.0, 0.0, 0.0, 0.0, 0.0, 0.0, 0.0, 0.0, 0.0, 4.7619, 0.0, 0.0, 0.0, 0.0, 0.0, 0.0, 0.0, 0.0, 0.0, 0.0, 0.0, 0.0, 0.0, 0.0, 0.0, 0.0, 0.0, 0.0, 0.0, 0.0, 0.0, 0.0, 11.9048, 0.0, 0.0, 0.0, 0.0, 0.0, 0.0, 0.0, 0.0, 0.0, 0.0, 0.0, 0.0, 4.7619, 0.0, 0.0, 0.0, 0.0, 0.0, 0.0, 4.7619, 11.9048, 0.0, 0.0, 0.0, 0.0, 0.0, 0.0, 0.0, 4.7619, 0.0, 0.0, 0.0, 0.0, 0.0, 0.0, 0.0, 0.0, 0.0, 0.0, 0.0, 0.0, 0.0, 0.0, 0.0, 0.0, 0.0, 0.0, 0.0, 0.0, 0.0, 0.0, 0.0, 0.0, 0.0, 0.0, 0.0, 0.0, 0.0, 0.0, 0.0, 0.0, 0.0, 0.0, 0.0, 0.0, 0.0, 0.0, 0.0, 0.0, 0.0, 0.0, 0.0, 0.0, 0.0, 0.0, 0.0, 0.0, 0.0, 0.0, 0.0, 0.0, 0.0, 0.0, 0.0, 2.381, 0.0, 0.0, 0.0, 0.0, 0.0, 0.0, 0.0, 0.0, 0.0, 0.2381, 0.0952, 0.1429, 0.0, 0.0, 0.0]\n"
          ]
        }
      ]
    },
    {
      "cell_type": "code",
      "source": [
        "cc.ExportCaptures(\"captured_words.csv\")"
      ],
      "metadata": {
        "colab": {
          "base_uri": "https://localhost:8080/"
        },
        "id": "IKYvUdNn5PTj",
        "outputId": "8d4dfeb8-b022-4f30-8364-87bd3298e25f"
      },
      "execution_count": 15,
      "outputs": [
        {
          "output_type": "stream",
          "name": "stdout",
          "text": [
            "Exported captured word frequencies.\n"
          ]
        }
      ]
    },
    {
      "cell_type": "code",
      "source": [
        "cc.dict.ExportDict2022Format(\"dictionary_2022.dicx\")"
      ],
      "metadata": {
        "colab": {
          "base_uri": "https://localhost:8080/"
        },
        "id": "0t4Jy2eu5bOe",
        "outputId": "f5cd84f0-d998-4aaa-df35-9c5a6ec42633"
      },
      "execution_count": 16,
      "outputs": [
        {
          "output_type": "stream",
          "name": "stdout",
          "text": [
            "Dictionary exported to LIWC-22 format.\n"
          ]
        }
      ]
    },
    {
      "cell_type": "code",
      "source": [
        "cc.dict.UpdateCategories(dicTerm=\"happiness\", newCategories={\"positive_emotion\": 1.0, \"joy\": 0.5})"
      ],
      "metadata": {
        "colab": {
          "base_uri": "https://localhost:8080/"
        },
        "id": "J5lao3na5h3J",
        "outputId": "2b42514a-1e00-429f-e347-9f783eedf1ad"
      },
      "execution_count": 17,
      "outputs": [
        {
          "output_type": "stream",
          "name": "stdout",
          "text": [
            "The category \"positive_emotion\" is not in the current dictionary. Adding category...\n",
            "The category \"joy\" is not in the current dictionary. Adding category...\n",
            "Your categories have been updated for \"happiness\": \n",
            "\tAdded to: positive_emotion, joy\n",
            "\tRemoved from: Cheerfulness, Pride, Optimism, Zest, Love, Sadness, Joy, Affection, Lust, Contentment, Positive_Emotion\n"
          ]
        }
      ]
    },
    {
      "cell_type": "code",
      "source": [
        "import csv\n",
        "from tqdm import tqdm\n",
        "from contentcoder.ContentCoder import ContentCoder\n",
        "\n",
        "cc = ContentCoder(dicFilename='/content/EmpathDefaultDictionary.dic',\n",
        "                  fileEncoding='utf-8-sig')\n",
        "\n",
        "with open(\"/content/Comments.csv\", \"r\", encoding=\"utf-8-sig\") as csvfile, \\\n",
        "     open(\"Output.csv\", \"w\", encoding=\"utf-8-sig\", newline=\"\") as csvfile_out:\n",
        "\n",
        "    reader = csv.DictReader(csvfile)\n",
        "    writer = csv.writer(csvfile_out)\n",
        "\n",
        "    # Write the header row of our output CSV file\n",
        "    writer.writerow([\"id\"] + cc.GetResultsHeader())\n",
        "\n",
        "    for row in tqdm(reader, desc=\"Processing\", unit=\" comments\"):\n",
        "        row_id = row[\"id\"]\n",
        "        text = row[\"comment_text\"]\n",
        "        result = cc.Analyze(text)\n",
        "        csv_row = cc.GetResultsArray(result)\n",
        "        writer.writerow([row_id] +csv_row)\n",
        "\n",
        "print(\"Finished!\")"
      ],
      "metadata": {
        "colab": {
          "base_uri": "https://localhost:8080/"
        },
        "id": "4LDPlcA25mj2",
        "outputId": "5c279d39-9ba5-4c8f-d6ea-03f41e6ac670"
      },
      "execution_count": 25,
      "outputs": [
        {
          "output_type": "stream",
          "name": "stdout",
          "text": [
            "Dictionary loaded.\n"
          ]
        },
        {
          "output_type": "stream",
          "name": "stderr",
          "text": [
            "Processing: 144088 comments [00:44, 3266.17 comments/s]"
          ]
        },
        {
          "output_type": "stream",
          "name": "stdout",
          "text": [
            "Finished!\n"
          ]
        },
        {
          "output_type": "stream",
          "name": "stderr",
          "text": [
            "\n"
          ]
        }
      ]
    }
  ]
}